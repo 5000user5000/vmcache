{
  "cells": [
    {
      "cell_type": "markdown",
      "metadata": {
        "id": "2mc2xWvayd7v"
      },
      "source": [
        "# Setup"
      ]
    },
    {
      "cell_type": "code",
      "execution_count": null,
      "metadata": {
        "colab": {
          "base_uri": "https://localhost:8080/"
        },
        "id": "a53PFaWwvycK",
        "outputId": "783324d8-6438-43a1-81db-1dccf94f7331"
      },
      "outputs": [
        {
          "name": "stdout",
          "output_type": "stream",
          "text": [
            "gcc (Ubuntu 11.4.0-1ubuntu1~22.04) 11.4.0\n",
            "Copyright (C) 2021 Free Software Foundation, Inc.\n",
            "This is free software; see the source for copying conditions.  There is NO\n",
            "warranty; not even for MERCHANTABILITY or FITNESS FOR A PARTICULAR PURPOSE.\n",
            "\n"
          ]
        }
      ],
      "source": [
        "!gcc --version"
      ]
    },
    {
      "cell_type": "code",
      "execution_count": null,
      "metadata": {
        "id": "F0rm8iMjvg8t"
      },
      "outputs": [],
      "source": [
        "!sudo apt update"
      ]
    },
    {
      "cell_type": "code",
      "execution_count": null,
      "metadata": {
        "id": "jvDwIQNYv11r"
      },
      "outputs": [],
      "source": [
        "!sudo apt-get install libaio-dev"
      ]
    },
    {
      "cell_type": "code",
      "execution_count": null,
      "metadata": {
        "colab": {
          "base_uri": "https://localhost:8080/"
        },
        "id": "Gps-qz_-wH5J",
        "outputId": "2ed449de-3da0-4b0f-8210-7b26f8152ca8"
      },
      "outputs": [],
      "source": [
        "!git clone https://github.com/5000user5000/vmcache.git"
      ]
    },
    {
      "cell_type": "code",
      "execution_count": null,
      "metadata": {
        "colab": {
          "base_uri": "https://localhost:8080/"
        },
        "id": "nc_f5VsAwNZi",
        "outputId": "f5d94a79-a7c5-4907-a6a9-7ab79225d6c4"
      },
      "outputs": [
        {
          "name": "stdout",
          "output_type": "stream",
          "text": [
            "/content/vmcache\n"
          ]
        }
      ],
      "source": [
        "%cd vmcache"
      ]
    },
    {
      "cell_type": "markdown",
      "metadata": {
        "id": "zutsYNrUy4kd"
      },
      "source": [
        "# Compile"
      ]
    },
    {
      "cell_type": "code",
      "execution_count": null,
      "metadata": {
        "colab": {
          "base_uri": "https://localhost:8080/"
        },
        "id": "3L-U9CNvwdAE",
        "outputId": "260dfc6b-47a7-4ec2-f045-b17e9f14d881"
      },
      "outputs": [
        {
          "name": "stdout",
          "output_type": "stream",
          "text": [
            "g++ -DNDEBUG -O3 -std=c++20 -g -fnon-call-exceptions -fasynchronous-unwind-tables vmcache.cpp -o vmcache -laio\n"
          ]
        }
      ],
      "source": [
        "!make"
      ]
    },
    {
      "cell_type": "markdown",
      "metadata": {
        "id": "M9QrzpQjy7s8"
      },
      "source": [
        "# Device (Use loop device to simulate storage)"
      ]
    },
    {
      "cell_type": "code",
      "execution_count": null,
      "metadata": {
        "colab": {
          "base_uri": "https://localhost:8080/"
        },
        "id": "q7Kq_YjpxOw8",
        "outputId": "00ccc619-1f91-46ab-d309-e44b81112686"
      },
      "outputs": [
        {
          "name": "stdout",
          "output_type": "stream",
          "text": [
            "1024+0 records in\n",
            "1024+0 records out\n",
            "1073741824 bytes (1.1 GB, 1.0 GiB) copied, 7.8142 s, 137 MB/s\n"
          ]
        }
      ],
      "source": [
        "!dd if=/dev/zero of=/tmp/vmcache.img bs=1M count=1024"
      ]
    },
    {
      "cell_type": "code",
      "execution_count": null,
      "metadata": {
        "id": "-7VrXpzHxqXj"
      },
      "outputs": [],
      "source": [
        "!sudo mknod /dev/loop0 b 7 0"
      ]
    },
    {
      "cell_type": "code",
      "execution_count": null,
      "metadata": {
        "colab": {
          "base_uri": "https://localhost:8080/"
        },
        "id": "URvbD-7563HE",
        "outputId": "b368f3fa-bcf4-45a5-a23a-94dc8971d8a7"
      },
      "outputs": [
        {
          "name": "stdout",
          "output_type": "stream",
          "text": [
            "/dev/loop0: [2049]:268 (/var/lib/docker/colab-vmdisk)\n"
          ]
        }
      ],
      "source": [
        "!losetup -a"
      ]
    },
    {
      "cell_type": "markdown",
      "metadata": {
        "id": "jMsr_CkCy_TP"
      },
      "source": [
        "# Execution"
      ]
    },
    {
      "cell_type": "markdown",
      "metadata": {
        "id": "f8PNtzl9_25d"
      },
      "source": [
        "Run the auto-testing script"
      ]
    },
    {
      "cell_type": "code",
      "execution_count": null,
      "metadata": {
        "id": "LVZZH6lx_QeE"
      },
      "outputs": [],
      "source": [
        "!sed -i 's/\\r$//' test.sh"
      ]
    },
    {
      "cell_type": "code",
      "execution_count": null,
      "metadata": {
        "id": "v03uGJPe_TEB"
      },
      "outputs": [],
      "source": [
        "!chmod +x test.sh"
      ]
    },
    {
      "cell_type": "code",
      "execution_count": null,
      "metadata": {
        "id": "0yCmoOaG_VBS"
      },
      "outputs": [],
      "source": [
        "!./test.sh"
      ]
    },
    {
      "cell_type": "markdown",
      "metadata": {},
      "source": [
        "Plot"
      ]
    },
    {
      "cell_type": "code",
      "execution_count": null,
      "metadata": {
        "id": "LxRPvggjIxLN"
      },
      "outputs": [],
      "source": [
        "!python plot_data.py"
      ]
    },
    {
      "cell_type": "markdown",
      "metadata": {
        "id": "7Tp6-OtDAOwn"
      },
      "source": [
        "# Command Example"
      ]
    },
    {
      "cell_type": "code",
      "execution_count": null,
      "metadata": {
        "colab": {
          "base_uri": "https://localhost:8080/"
        },
        "id": "9fkO--xDHdGM",
        "outputId": "69997b72-1e26-4b66-f3b1-b3abae35a5e5"
      },
      "outputs": [
        {
          "name": "stdout",
          "output_type": "stream",
          "text": [
            "vmcache blk:/dev/loop0 virtgb:16 physgb:4 exmap:0\n",
            "space: 15.5331 GB \n",
            "ts,tx,rmb,wmb,system,threads,datasize,workload,batch\n",
            "0,61,6.53125,6.27734,vmcache,4,85,tpcc,64\n",
            "1,71,8.07422,8.58984,vmcache,4,85,tpcc,64\n",
            "2,56,12.0625,11.5625,vmcache,4,85,tpcc,64\n",
            "3,134,8.91406,9.25,vmcache,4,85,tpcc,64\n",
            "4,122,11.8672,12.7344,vmcache,4,85,tpcc,64\n",
            "5,98,11.457,10.3906,vmcache,4,85,tpcc,64\n",
            "6,129,11.5078,12.5547,vmcache,4,85,tpcc,64\n",
            "7,142,9.12109,8.32031,vmcache,4,85,tpcc,64\n",
            "8,134,8.30859,8.86719,vmcache,4,85,tpcc,64\n",
            "9,120,11.5039,11.293,vmcache,4,85,tpcc,64\n",
            "10,128,10.125,10.4219,vmcache,4,85,tpcc,64\n",
            "11,133,6.97656,6.88672,vmcache,4,85,tpcc,64\n",
            "12,61,8.82812,9.17578,vmcache,4,85,tpcc,64\n",
            "13,144,11.3203,10.6211,vmcache,4,85,tpcc,64\n",
            "14,134,9.01172,9.26953,vmcache,4,85,tpcc,64\n",
            "15,210,11.6172,12,vmcache,4,85,tpcc,64\n",
            "16,99,7.58203,6.77734,vmcache,4,85,tpcc,64\n",
            "17,186,8.67188,9.05078,vmcache,4,85,tpcc,64\n"
          ]
        }
      ],
      "source": [
        "!sudo BLOCK=/dev/loop0 THREADS=4 DATASIZE=85 ./vmcache"
      ]
    }
  ],
  "metadata": {
    "colab": {
      "provenance": []
    },
    "kernelspec": {
      "display_name": "Python 3",
      "name": "python3"
    },
    "language_info": {
      "name": "python"
    }
  },
  "nbformat": 4,
  "nbformat_minor": 0
}
